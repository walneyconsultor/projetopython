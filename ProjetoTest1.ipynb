{
 "cells": [
  {
   "cell_type": "code",
   "execution_count": null,
   "id": "643e4634-8814-4200-8048-522a49e5bc2d",
   "metadata": {},
   "outputs": [],
   "source": [
    "primeiro código de teste do Python"
   ]
  },
  {
   "cell_type": "code",
   "execution_count": null,
   "id": "f24e24e8-60cb-4bc3-a6b6-c38eeaf29d01",
   "metadata": {},
   "outputs": [],
   "source": [
    "a=1"
   ]
  },
  {
   "cell_type": "code",
   "execution_count": null,
   "id": "e7734f69-f865-4da3-a118-7c4afbde25ff",
   "metadata": {},
   "outputs": [],
   "source": [
    "b=0"
   ]
  },
  {
   "cell_type": "code",
   "execution_count": null,
   "id": "6038b47a-13f8-4809-a508-1a8d58377227",
   "metadata": {},
   "outputs": [],
   "source": [
    "c=1"
   ]
  },
  {
   "cell_type": "code",
   "execution_count": null,
   "id": "3a351ecd-5204-41b5-9af1-13b58c240ea5",
   "metadata": {},
   "outputs": [],
   "source": []
  }
 ],
 "metadata": {
  "kernelspec": {
   "display_name": "Python 3 (ipykernel)",
   "language": "python",
   "name": "python3"
  },
  "language_info": {
   "codemirror_mode": {
    "name": "ipython",
    "version": 3
   },
   "file_extension": ".py",
   "mimetype": "text/x-python",
   "name": "python",
   "nbconvert_exporter": "python",
   "pygments_lexer": "ipython3",
   "version": "3.12.7"
  }
 },
 "nbformat": 4,
 "nbformat_minor": 5
}
